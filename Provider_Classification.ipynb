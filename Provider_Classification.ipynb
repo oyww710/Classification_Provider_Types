{
 "cells": [
  {
   "cell_type": "markdown",
   "metadata": {},
   "source": [
    "# Distinguish cardiologists from the general providers\n",
    "### Author: Weiwei Ouyang\n",
    "### Date: 01/12/2020\n",
    "\n",
    "### Dataset:\n",
    "* **npi_proc_counts.csv(Medicare Procedure Claims)**\n",
    "* **npi_drugs.csv(Medicare Pharmacy Claims)**\n",
    "* **hcpcs_lookup.csv(HCPCS codes)**\n",
    "* **npi_specialty.csv (Provider type)**\n",
    "\n",
    "### Steps:\n",
    "* **Load the packages and the raw tables (4 tables)**\n",
    "* **Preprocess npi_specialty table and get the outcomes (Whether cardiologist or not)**\n",
    "* **Preprocess the procedure claim (Get the procedure group features and corresponding average service numbers)**\n",
    "* **Preprocess the pharmacy claim (Get the procedure group features and corresponding average drug numbers)**\n",
    "* **Get the merged table with outcomes and corresponding procedure and drug columns**\n",
    "* **Feature Analysis, Engineering and Selection**\n",
    "* **Apply Machine Learning Methods and Model Comparisons and Evaluations**\n",
    "* **Conclusion and Discussions**"
   ]
  },
  {
   "cell_type": "markdown",
   "metadata": {},
   "source": [
    "## Load the packages"
   ]
  },
  {
   "cell_type": "code",
   "execution_count": 1,
   "metadata": {},
   "outputs": [],
   "source": [
    "import numpy as np\n",
    "import pandas as pd\n",
    "import matplotlib.pyplot as plt\n",
    "import seaborn as sns\n",
    "plt.style.use('fivethirtyeight')\n",
    "import warnings\n",
    "warnings.filterwarnings('ignore')\n",
    "%matplotlib inline\n",
    "from sklearn.linear_model import LogisticRegression #logistic regression\n",
    "from sklearn import svm #support vector Machine\n",
    "from sklearn.ensemble import RandomForestClassifier #Random Forest\n",
    "from sklearn.neighbors import KNeighborsClassifier #KNN\n",
    "from sklearn.naive_bayes import GaussianNB #Naive bayes\n",
    "from sklearn.tree import DecisionTreeClassifier #Decision Tree\n",
    "from sklearn.model_selection import train_test_split #training and testing data split\n",
    "from sklearn import metrics #accuracy measure\n",
    "from sklearn.metrics import confusion_matrix #for confusion matrix\n",
    "from pandas_ply import install_ply, X, sym_call #Similar funtion like %>% in R\n",
    "import multiprocessing\n",
    "from multiprocessing import Pool, cpu_count  ##Paralel Computing\n",
    "install_ply(pd)"
   ]
  },
  {
   "cell_type": "markdown",
   "metadata": {},
   "source": [
    "## Load the datasets"
   ]
  },
  {
   "cell_type": "code",
   "execution_count": 2,
   "metadata": {},
   "outputs": [],
   "source": [
    "claim = pd.read_csv('npi_proc_counts.csv')\n",
    "rx_claim=pd.read_csv('npi_drugs.csv')\n",
    "HCPC=pd.read_csv('hcpcs_lookup.csv')\n",
    "provider=pd.read_csv('npi_specialty.csv')"
   ]
  },
  {
   "cell_type": "markdown",
   "metadata": {},
   "source": [
    "## Preprocess the outcome dataset"
   ]
  },
  {
   "cell_type": "markdown",
   "metadata": {},
   "source": [
    "Since we want to distinguish cardiologists from others, we can transform it to a binary classification problem and generate a new column to indicate whether this provider is cardiologist or not"
   ]
  },
  {
   "cell_type": "markdown",
   "metadata": {},
   "source": [
    "**Generate a new column 'cardi_flag' to indicate whether the provider is cardiologist and drop duplicates**"
   ]
  },
  {
   "cell_type": "code",
   "execution_count": 3,
   "metadata": {},
   "outputs": [],
   "source": [
    "provider['cardi_flag']=provider.specialty.str.contains('Cardiology').astype(int)\n",
    "provider.drop_duplicates(inplace=True)"
   ]
  },
  {
   "cell_type": "markdown",
   "metadata": {},
   "source": [
    "**Calculate the rate of cardiologist**"
   ]
  },
  {
   "cell_type": "code",
   "execution_count": 4,
   "metadata": {},
   "outputs": [
    {
     "name": "stdout",
     "output_type": "stream",
     "text": [
      "In total, there are 909605 providers and 2.475140308155738% are cardiologists\n"
     ]
    }
   ],
   "source": [
    "print(\"In total, there are {} providers and {}% are cardiologists\".format(provider.shape[0],provider.cardi_flag.mean()*100))"
   ]
  },
  {
   "cell_type": "markdown",
   "metadata": {},
   "source": [
    "2.48% of all providers are cardiologists. "
   ]
  },
  {
   "cell_type": "code",
   "execution_count": 5,
   "metadata": {},
   "outputs": [],
   "source": [
    "#only keep the flag column and the NPI code as primary key to join other tables later\n",
    "provider=provider[['NPI','cardi_flag']]"
   ]
  },
  {
   "cell_type": "code",
   "execution_count": 6,
   "metadata": {},
   "outputs": [],
   "source": [
    "#provider.shape\n",
    "#provider.NPI.nunique() \n",
    "#Check whether NPI is unique and there are no duplicate NPI codes"
   ]
  },
  {
   "cell_type": "code",
   "execution_count": 7,
   "metadata": {},
   "outputs": [
    {
     "data": {
      "text/html": [
       "<div>\n",
       "<style scoped>\n",
       "    .dataframe tbody tr th:only-of-type {\n",
       "        vertical-align: middle;\n",
       "    }\n",
       "\n",
       "    .dataframe tbody tr th {\n",
       "        vertical-align: top;\n",
       "    }\n",
       "\n",
       "    .dataframe thead th {\n",
       "        text-align: right;\n",
       "    }\n",
       "</style>\n",
       "<table border=\"1\" class=\"dataframe\">\n",
       "  <thead>\n",
       "    <tr style=\"text-align: right;\">\n",
       "      <th></th>\n",
       "      <th>NPI</th>\n",
       "      <th>cardi_flag</th>\n",
       "    </tr>\n",
       "  </thead>\n",
       "  <tbody>\n",
       "    <tr>\n",
       "      <th>0</th>\n",
       "      <td>1003000126</td>\n",
       "      <td>0</td>\n",
       "    </tr>\n",
       "    <tr>\n",
       "      <th>1</th>\n",
       "      <td>1003000134</td>\n",
       "      <td>0</td>\n",
       "    </tr>\n",
       "    <tr>\n",
       "      <th>2</th>\n",
       "      <td>1003000142</td>\n",
       "      <td>0</td>\n",
       "    </tr>\n",
       "  </tbody>\n",
       "</table>\n",
       "</div>"
      ],
      "text/plain": [
       "          NPI  cardi_flag\n",
       "0  1003000126           0\n",
       "1  1003000134           0\n",
       "2  1003000142           0"
      ]
     },
     "execution_count": 7,
     "metadata": {},
     "output_type": "execute_result"
    }
   ],
   "source": [
    "provider.head(3)"
   ]
  },
  {
   "cell_type": "markdown",
   "metadata": {},
   "source": [
    "**provider** can be our main table and left join other tables. To narrow down the procedure and drug types, we only keep the procedures and drugs that cardiologists used and narrow down the columns in the datatable."
   ]
  },
  {
   "cell_type": "markdown",
   "metadata": {},
   "source": [
    "## Preprocess the claim data(long-format to wide-format)"
   ]
  },
  {
   "cell_type": "markdown",
   "metadata": {},
   "source": [
    "There are too many procedures in procedure claim table and we narrow down to the most common procedures cardiologists will have. Below are the following steps(In practice, B and C can reverse order sometimes):\n",
    "\n",
    "**A. Narrow down to procedures cardiologists would have.**\n",
    "\n",
    "**B.Generate wide-format table with colums contain all procedures and corresponding procedure numbers.**\n",
    "\n",
    "**C.Choose a cut-off and only choose the most common single procedures.**\n",
    "\n",
    "**D.Use clinical domain knowledge to generate aggrigate fianl features for modeling (HCPC table).**"
   ]
  },
  {
   "cell_type": "code",
   "execution_count": 8,
   "metadata": {},
   "outputs": [
    {
     "name": "stdout",
     "output_type": "stream",
     "text": [
      "In total, there are 5983 unique procedures in claim table while the numbers of unique procedures among cardiologists are 1339\n"
     ]
    }
   ],
   "source": [
    "print('In total, there are {} unique procedures in claim table while the numbers of unique procedures among cardiologists are {}'.format(claim.HCPCS_CODE.nunique(),claim[claim.NPI.isin(provider[provider.cardi_flag==1].NPI)].HCPCS_CODE.nunique()))"
   ]
  },
  {
   "cell_type": "markdown",
   "metadata": {},
   "source": [
    "### A. Narrow down to procedures cardiologists would have"
   ]
  },
  {
   "cell_type": "code",
   "execution_count": 9,
   "metadata": {},
   "outputs": [
    {
     "name": "stdout",
     "output_type": "stream",
     "text": [
      "CPU times: user 1.06 s, sys: 316 ms, total: 1.38 s\n",
      "Wall time: 1.38 s\n"
     ]
    }
   ],
   "source": [
    "%%time\n",
    "claim=claim[claim.HCPCS_CODE.isin(list(set(claim[claim.NPI.isin(provider[provider.cardi_flag==1].NPI)].HCPCS_CODE)))]"
   ]
  },
  {
   "cell_type": "markdown",
   "metadata": {},
   "source": [
    "The total numbers for each procedure may depend on the number of members who received the service. Thus we are more interesetd in the average number of services one member received for each service."
   ]
  },
  {
   "cell_type": "markdown",
   "metadata": {},
   "source": [
    "**Remove duplicates**"
   ]
  },
  {
   "cell_type": "code",
   "execution_count": 10,
   "metadata": {},
   "outputs": [],
   "source": [
    "#claim.drop_duplicates()\n",
    "#claim.shape\n",
    "# There exist duplicates. 7899575----> 7898099\n",
    "claim=claim.drop_duplicates()"
   ]
  },
  {
   "cell_type": "code",
   "execution_count": 11,
   "metadata": {},
   "outputs": [
    {
     "data": {
      "text/plain": [
       "(7898099, 4)"
      ]
     },
     "execution_count": 11,
     "metadata": {},
     "output_type": "execute_result"
    }
   ],
   "source": [
    "claim.shape"
   ]
  },
  {
   "cell_type": "markdown",
   "metadata": {},
   "source": [
    "**Calculate the average number for each procedure (Get long-format table)**"
   ]
  },
  {
   "cell_type": "code",
   "execution_count": 13,
   "metadata": {},
   "outputs": [
    {
     "data": {
      "text/html": [
       "<div>\n",
       "<style scoped>\n",
       "    .dataframe tbody tr th:only-of-type {\n",
       "        vertical-align: middle;\n",
       "    }\n",
       "\n",
       "    .dataframe tbody tr th {\n",
       "        vertical-align: top;\n",
       "    }\n",
       "\n",
       "    .dataframe thead th {\n",
       "        text-align: right;\n",
       "    }\n",
       "</style>\n",
       "<table border=\"1\" class=\"dataframe\">\n",
       "  <thead>\n",
       "    <tr style=\"text-align: right;\">\n",
       "      <th></th>\n",
       "      <th>NPI</th>\n",
       "      <th>HCPCS_CODE</th>\n",
       "      <th>AVG_SRVC</th>\n",
       "      <th>SRVC_Count</th>\n",
       "      <th>MEMBER_Count</th>\n",
       "    </tr>\n",
       "  </thead>\n",
       "  <tbody>\n",
       "    <tr>\n",
       "      <th>0</th>\n",
       "      <td>1003000126</td>\n",
       "      <td>99222</td>\n",
       "      <td>1.028986</td>\n",
       "      <td>142</td>\n",
       "      <td>138</td>\n",
       "    </tr>\n",
       "    <tr>\n",
       "      <th>1</th>\n",
       "      <td>1003000126</td>\n",
       "      <td>99223</td>\n",
       "      <td>1.010526</td>\n",
       "      <td>96</td>\n",
       "      <td>95</td>\n",
       "    </tr>\n",
       "    <tr>\n",
       "      <th>2</th>\n",
       "      <td>1003000126</td>\n",
       "      <td>99231</td>\n",
       "      <td>1.297872</td>\n",
       "      <td>61</td>\n",
       "      <td>47</td>\n",
       "    </tr>\n",
       "  </tbody>\n",
       "</table>\n",
       "</div>"
      ],
      "text/plain": [
       "          NPI HCPCS_CODE  AVG_SRVC  SRVC_Count  MEMBER_Count\n",
       "0  1003000126      99222  1.028986         142           138\n",
       "1  1003000126      99223  1.010526          96            95\n",
       "2  1003000126      99231  1.297872          61            47"
      ]
     },
     "execution_count": 13,
     "metadata": {},
     "output_type": "execute_result"
    }
   ],
   "source": [
    "claim_long=claim.groupby(['NPI','HCPCS_CODE']).ply_select(AVG_SRVC=X.LINE_SRVC_CNT.sum()/X.BENE_UNIQUE_CNT.sum(),\n",
    "                                                         SRVC_Count=X.LINE_SRVC_CNT.sum(),\n",
    "                                                         MEMBER_Count=X.BENE_UNIQUE_CNT.sum()).reset_index()\n",
    "claim_long.head(3)"
   ]
  },
  {
   "cell_type": "code",
   "execution_count": 14,
   "metadata": {},
   "outputs": [],
   "source": [
    "del claim"
   ]
  },
  {
   "cell_type": "code",
   "execution_count": 15,
   "metadata": {},
   "outputs": [],
   "source": [
    "#claim[claim.HCPCS_CODE.str.contains('[A-Z]')].HCPCS_CODE"
   ]
  },
  {
   "cell_type": "markdown",
   "metadata": {},
   "source": [
    "**B. Generate wide-format table with colums contain all procedures and corresponding procedure numbers**"
   ]
  },
  {
   "cell_type": "code",
   "execution_count": 15,
   "metadata": {},
   "outputs": [
    {
     "name": "stdout",
     "output_type": "stream",
     "text": [
      "CPU times: user 26.4 s, sys: 32.9 s, total: 59.3 s\n",
      "Wall time: 1min 3s\n"
     ]
    }
   ],
   "source": [
    "%%time\n",
    "claim_wide_Avg=claim_long.pivot(index='NPI', columns='HCPCS_CODE', values='AVG_SRVC')\n",
    "#claim_wide_SRVC=claim_long.pivot(index='NPI', columns='HCPCS_CODE', values='SRVC_Count')\n",
    "#claim_wide_MEMBER=claim_long.pivot(index='NPI', columns='HCPCS_CODE', values='MEMBER_Count')"
   ]
  },
  {
   "cell_type": "code",
   "execution_count": 16,
   "metadata": {},
   "outputs": [
    {
     "data": {
      "text/html": [
       "<div>\n",
       "<style scoped>\n",
       "    .dataframe tbody tr th:only-of-type {\n",
       "        vertical-align: middle;\n",
       "    }\n",
       "\n",
       "    .dataframe tbody tr th {\n",
       "        vertical-align: top;\n",
       "    }\n",
       "\n",
       "    .dataframe thead th {\n",
       "        text-align: right;\n",
       "    }\n",
       "</style>\n",
       "<table border=\"1\" class=\"dataframe\">\n",
       "  <thead>\n",
       "    <tr style=\"text-align: right;\">\n",
       "      <th>HCPCS_CODE</th>\n",
       "      <th>00142</th>\n",
       "      <th>00300</th>\n",
       "      <th>00320</th>\n",
       "      <th>00400</th>\n",
       "      <th>00410</th>\n",
       "      <th>00537</th>\n",
       "      <th>00541</th>\n",
       "      <th>00560</th>\n",
       "      <th>00562</th>\n",
       "      <th>00567</th>\n",
       "      <th>...</th>\n",
       "      <th>Q2039</th>\n",
       "      <th>Q3014</th>\n",
       "      <th>Q4102</th>\n",
       "      <th>Q9956</th>\n",
       "      <th>Q9957</th>\n",
       "      <th>Q9963</th>\n",
       "      <th>Q9965</th>\n",
       "      <th>Q9966</th>\n",
       "      <th>Q9967</th>\n",
       "      <th>Q9969</th>\n",
       "    </tr>\n",
       "    <tr>\n",
       "      <th>NPI</th>\n",
       "      <th></th>\n",
       "      <th></th>\n",
       "      <th></th>\n",
       "      <th></th>\n",
       "      <th></th>\n",
       "      <th></th>\n",
       "      <th></th>\n",
       "      <th></th>\n",
       "      <th></th>\n",
       "      <th></th>\n",
       "      <th></th>\n",
       "      <th></th>\n",
       "      <th></th>\n",
       "      <th></th>\n",
       "      <th></th>\n",
       "      <th></th>\n",
       "      <th></th>\n",
       "      <th></th>\n",
       "      <th></th>\n",
       "      <th></th>\n",
       "      <th></th>\n",
       "    </tr>\n",
       "  </thead>\n",
       "  <tbody>\n",
       "    <tr>\n",
       "      <th>1003000126</th>\n",
       "      <td>NaN</td>\n",
       "      <td>NaN</td>\n",
       "      <td>NaN</td>\n",
       "      <td>NaN</td>\n",
       "      <td>NaN</td>\n",
       "      <td>NaN</td>\n",
       "      <td>NaN</td>\n",
       "      <td>NaN</td>\n",
       "      <td>NaN</td>\n",
       "      <td>NaN</td>\n",
       "      <td>...</td>\n",
       "      <td>NaN</td>\n",
       "      <td>NaN</td>\n",
       "      <td>NaN</td>\n",
       "      <td>NaN</td>\n",
       "      <td>NaN</td>\n",
       "      <td>NaN</td>\n",
       "      <td>NaN</td>\n",
       "      <td>NaN</td>\n",
       "      <td>NaN</td>\n",
       "      <td>NaN</td>\n",
       "    </tr>\n",
       "  </tbody>\n",
       "</table>\n",
       "<p>1 rows × 1339 columns</p>\n",
       "</div>"
      ],
      "text/plain": [
       "HCPCS_CODE  00142  00300  00320  00400  00410  00537  00541  00560  00562  \\\n",
       "NPI                                                                         \n",
       "1003000126    NaN    NaN    NaN    NaN    NaN    NaN    NaN    NaN    NaN   \n",
       "\n",
       "HCPCS_CODE  00567  ...  Q2039  Q3014  Q4102  Q9956  Q9957  Q9963  Q9965  \\\n",
       "NPI                ...                                                    \n",
       "1003000126    NaN  ...    NaN    NaN    NaN    NaN    NaN    NaN    NaN   \n",
       "\n",
       "HCPCS_CODE  Q9966  Q9967  Q9969  \n",
       "NPI                              \n",
       "1003000126    NaN    NaN    NaN  \n",
       "\n",
       "[1 rows x 1339 columns]"
      ]
     },
     "execution_count": 16,
     "metadata": {},
     "output_type": "execute_result"
    }
   ],
   "source": [
    "claim_wide_Avg.head(1)"
   ]
  },
  {
   "cell_type": "markdown",
   "metadata": {},
   "source": [
    "There are many missing values in each columns, next we need to filter the procedure with too many missing rows(At least Non-Missing>=2.5%). Missing values mean the provider didn't apply this procedure. The reason we choose 2.5% as cut-off due to the cardilogist rate. "
   ]
  },
  {
   "cell_type": "markdown",
   "metadata": {},
   "source": [
    "**Generate Non-Missing value percentage table**"
   ]
  },
  {
   "cell_type": "code",
   "execution_count": 17,
   "metadata": {},
   "outputs": [
    {
     "name": "stdout",
     "output_type": "stream",
     "text": [
      "CPU times: user 12.7 s, sys: 13.1 s, total: 25.8 s\n",
      "Wall time: 30.5 s\n"
     ]
    }
   ],
   "source": [
    "%%time\n",
    "#Miss=claim_wide.isnull().sum(axis=0)\n",
    "Miss=pd.DataFrame([(x,y) for x,y in claim_wide_Avg.isnull().sum(axis=0).items()],columns=['HCPCS_CODE','Miss_Count'])\n",
    "Miss['Non_Miss_Per']=1-Miss['Miss_Count']/claim_wide_Avg.shape[0]\n",
    "#Keep_Proc=list(Miss[Miss.Miss_Per<0.05].HCPCS_CODE)"
   ]
  },
  {
   "cell_type": "code",
   "execution_count": 18,
   "metadata": {},
   "outputs": [
    {
     "data": {
      "text/html": [
       "<div>\n",
       "<style scoped>\n",
       "    .dataframe tbody tr th:only-of-type {\n",
       "        vertical-align: middle;\n",
       "    }\n",
       "\n",
       "    .dataframe tbody tr th {\n",
       "        vertical-align: top;\n",
       "    }\n",
       "\n",
       "    .dataframe thead th {\n",
       "        text-align: right;\n",
       "    }\n",
       "</style>\n",
       "<table border=\"1\" class=\"dataframe\">\n",
       "  <thead>\n",
       "    <tr style=\"text-align: right;\">\n",
       "      <th></th>\n",
       "      <th>HCPCS_CODE</th>\n",
       "      <th>Miss_Count</th>\n",
       "      <th>Non_Miss_Per</th>\n",
       "    </tr>\n",
       "  </thead>\n",
       "  <tbody>\n",
       "    <tr>\n",
       "      <th>0</th>\n",
       "      <td>00142</td>\n",
       "      <td>813427</td>\n",
       "      <td>0.027703</td>\n",
       "    </tr>\n",
       "  </tbody>\n",
       "</table>\n",
       "</div>"
      ],
      "text/plain": [
       "  HCPCS_CODE  Miss_Count  Non_Miss_Per\n",
       "0      00142      813427      0.027703"
      ]
     },
     "execution_count": 18,
     "metadata": {},
     "output_type": "execute_result"
    }
   ],
   "source": [
    "Miss.head(1)"
   ]
  },
  {
   "cell_type": "code",
   "execution_count": 19,
   "metadata": {},
   "outputs": [
    {
     "data": {
      "text/plain": [
       "<matplotlib.axes._subplots.AxesSubplot at 0x1a33aea940>"
      ]
     },
     "execution_count": 19,
     "metadata": {},
     "output_type": "execute_result"
    },
    {
     "data": {
      "image/png": "[encoded data removed]",
      "text/plain": [
       "<Figure size 432x288 with 1 Axes>"
      ]
     },
     "metadata": {
      "needs_background": "light"
     },
     "output_type": "display_data"
    }
   ],
   "source": [
    "Miss.Non_Miss_Per.hist()"
   ]
  },
  {
   "cell_type": "markdown",
   "metadata": {},
   "source": [
    "If we look at procedure one by one, the majority of non-missing percentage is smaller than 10%. "
   ]
  },
  {
   "cell_type": "markdown",
   "metadata": {},
   "source": [
    "### C. Choose a cut-off and only choose the most common single procedures"
   ]
  },
  {
   "cell_type": "markdown",
   "metadata": {},
   "source": [
    "If we consider procedure one by one, we need to filter the procedure with too many missing rows(At least Non-Missing>=2.5%). The reason we choose 2.5% as cut-off due to the cardilogist rate (2.48%). "
   ]
  },
  {
   "cell_type": "markdown",
   "metadata": {},
   "source": [
    "**Show the procedures with non-missing percentage no smaller than 2.5%**"
   ]
  },
  {
   "cell_type": "code",
   "execution_count": 20,
   "metadata": {
    "scrolled": false
   },
   "outputs": [
    {
     "data": {
      "text/html": [
       "<div>\n",
       "<style scoped>\n",
       "    .dataframe tbody tr th:only-of-type {\n",
       "        vertical-align: middle;\n",
       "    }\n",
       "\n",
       "    .dataframe tbody tr th {\n",
       "        vertical-align: top;\n",
       "    }\n",
       "\n",
       "    .dataframe thead th {\n",
       "        text-align: right;\n",
       "    }\n",
       "</style>\n",
       "<table border=\"1\" class=\"dataframe\">\n",
       "  <thead>\n",
       "    <tr style=\"text-align: right;\">\n",
       "      <th></th>\n",
       "      <th>HCPCS_CODE</th>\n",
       "      <th>HCPCS_DESCRIPTION</th>\n",
       "    </tr>\n",
       "  </thead>\n",
       "  <tbody>\n",
       "    <tr>\n",
       "      <th>6</th>\n",
       "      <td>00142</td>\n",
       "      <td>Anesthesia for lens surgery</td>\n",
       "    </tr>\n",
       "    <tr>\n",
       "      <th>62</th>\n",
       "      <td>00740</td>\n",
       "      <td>Anesthesia for procedure on gastrointestinal t...</td>\n",
       "    </tr>\n",
       "    <tr>\n",
       "      <th>76</th>\n",
       "      <td>00810</td>\n",
       "      <td>Anesthesia for procedure on lower intestine us...</td>\n",
       "    </tr>\n",
       "    <tr>\n",
       "      <th>436</th>\n",
       "      <td>17000</td>\n",
       "      <td>Destruction of skin growth</td>\n",
       "    </tr>\n",
       "    <tr>\n",
       "      <th>531</th>\n",
       "      <td>20610</td>\n",
       "      <td>Aspiration or injection of large joint or join...</td>\n",
       "    </tr>\n",
       "    <tr>\n",
       "      <th>1601</th>\n",
       "      <td>36415</td>\n",
       "      <td>Insertion of needle into vein for collection o...</td>\n",
       "    </tr>\n",
       "    <tr>\n",
       "      <th>2943</th>\n",
       "      <td>69210</td>\n",
       "      <td>Removal of impact ear wax</td>\n",
       "    </tr>\n",
       "    <tr>\n",
       "      <th>3010</th>\n",
       "      <td>70450</td>\n",
       "      <td>CT scan head or brain</td>\n",
       "    </tr>\n",
       "    <tr>\n",
       "      <th>3040</th>\n",
       "      <td>71010</td>\n",
       "      <td>X-ray of chest, 1 view, front</td>\n",
       "    </tr>\n",
       "    <tr>\n",
       "      <th>3042</th>\n",
       "      <td>71020</td>\n",
       "      <td>X-ray of chest, 2 views, front and side</td>\n",
       "    </tr>\n",
       "    <tr>\n",
       "      <th>3074</th>\n",
       "      <td>72100</td>\n",
       "      <td>X-ray of lower and sacral spine, 2 or 3 views</td>\n",
       "    </tr>\n",
       "    <tr>\n",
       "      <th>3096</th>\n",
       "      <td>72170</td>\n",
       "      <td>X-ray of pelvis, 1 or 2 views</td>\n",
       "    </tr>\n",
       "    <tr>\n",
       "      <th>3121</th>\n",
       "      <td>73030</td>\n",
       "      <td>X-ray of shoulder, minimum of 2 views</td>\n",
       "    </tr>\n",
       "    <tr>\n",
       "      <th>3146</th>\n",
       "      <td>73510</td>\n",
       "      <td>X-ray of hip 2 or more views</td>\n",
       "    </tr>\n",
       "    <tr>\n",
       "      <th>3152</th>\n",
       "      <td>73560</td>\n",
       "      <td>X-ray of knee, 1 or 2 views</td>\n",
       "    </tr>\n",
       "    <tr>\n",
       "      <th>3153</th>\n",
       "      <td>73562</td>\n",
       "      <td>X-ray of knee, 3 views</td>\n",
       "    </tr>\n",
       "    <tr>\n",
       "      <th>3159</th>\n",
       "      <td>73610</td>\n",
       "      <td>X-ray of ankle, minimum of 3 views</td>\n",
       "    </tr>\n",
       "    <tr>\n",
       "      <th>3162</th>\n",
       "      <td>73630</td>\n",
       "      <td>X-ray of foot, minimum of 3 views</td>\n",
       "    </tr>\n",
       "    <tr>\n",
       "      <th>3176</th>\n",
       "      <td>74000</td>\n",
       "      <td>X-ray of abdomen, single view</td>\n",
       "    </tr>\n",
       "    <tr>\n",
       "      <th>3185</th>\n",
       "      <td>74176</td>\n",
       "      <td>CT scan of abdomen and pelvis</td>\n",
       "    </tr>\n",
       "    <tr>\n",
       "      <th>3186</th>\n",
       "      <td>74177</td>\n",
       "      <td>CT scan of abdomen and pelvis</td>\n",
       "    </tr>\n",
       "    <tr>\n",
       "      <th>3360</th>\n",
       "      <td>76942</td>\n",
       "      <td>Ultrasonic guidance imaging supervision and in...</td>\n",
       "    </tr>\n",
       "    <tr>\n",
       "      <th>3393</th>\n",
       "      <td>77080</td>\n",
       "      <td>Bone density measurement spine or hips using d...</td>\n",
       "    </tr>\n",
       "    <tr>\n",
       "      <th>3563</th>\n",
       "      <td>80053</td>\n",
       "      <td>Blood test, comprehensive group of blood chemi...</td>\n",
       "    </tr>\n",
       "    <tr>\n",
       "      <th>3564</th>\n",
       "      <td>80061</td>\n",
       "      <td>Blood test, lipids (cholesterol and triglyceri...</td>\n",
       "    </tr>\n",
       "    <tr>\n",
       "      <th>3613</th>\n",
       "      <td>81002</td>\n",
       "      <td>Urinalysis, manual test</td>\n",
       "    </tr>\n",
       "    <tr>\n",
       "      <th>3614</th>\n",
       "      <td>81003</td>\n",
       "      <td>Automated urinalysis test</td>\n",
       "    </tr>\n",
       "    <tr>\n",
       "      <th>3878</th>\n",
       "      <td>83036</td>\n",
       "      <td>Hemoglobin A1C level</td>\n",
       "    </tr>\n",
       "    <tr>\n",
       "      <th>4026</th>\n",
       "      <td>84443</td>\n",
       "      <td>Blood test, thyroid stimulating hormone (TSH)</td>\n",
       "    </tr>\n",
       "    <tr>\n",
       "      <th>4070</th>\n",
       "      <td>85025</td>\n",
       "      <td>Complete blood cell count (red cells, white bl...</td>\n",
       "    </tr>\n",
       "    <tr>\n",
       "      <th>4135</th>\n",
       "      <td>85610</td>\n",
       "      <td>Blood test, clotting time</td>\n",
       "    </tr>\n",
       "    <tr>\n",
       "      <th>4625</th>\n",
       "      <td>90656</td>\n",
       "      <td>Vaccine for influenza injection into muscle, p...</td>\n",
       "    </tr>\n",
       "    <tr>\n",
       "      <th>4629</th>\n",
       "      <td>90662</td>\n",
       "      <td>Vaccine for influenza injection</td>\n",
       "    </tr>\n",
       "    <tr>\n",
       "      <th>4640</th>\n",
       "      <td>90732</td>\n",
       "      <td>Vaccine for pneumococcal polysaccharide for in...</td>\n",
       "    </tr>\n",
       "    <tr>\n",
       "      <th>4831</th>\n",
       "      <td>93000</td>\n",
       "      <td>Routine EKG using at least 12 leads including ...</td>\n",
       "    </tr>\n",
       "    <tr>\n",
       "      <th>4833</th>\n",
       "      <td>93010</td>\n",
       "      <td>Routine electrocardiogram (EKG) using at least...</td>\n",
       "    </tr>\n",
       "    <tr>\n",
       "      <th>4877</th>\n",
       "      <td>93306</td>\n",
       "      <td>Ultrasound examination of heart including colo...</td>\n",
       "    </tr>\n",
       "    <tr>\n",
       "      <th>4953</th>\n",
       "      <td>93880</td>\n",
       "      <td>Ultrasound scanning of head and neck vessel bl...</td>\n",
       "    </tr>\n",
       "    <tr>\n",
       "      <th>4968</th>\n",
       "      <td>93970</td>\n",
       "      <td>Ultrasound scan of veins of arms or legs inclu...</td>\n",
       "    </tr>\n",
       "    <tr>\n",
       "      <th>4969</th>\n",
       "      <td>93971</td>\n",
       "      <td>Ultrasound scan limited study of arm or leg ve...</td>\n",
       "    </tr>\n",
       "    <tr>\n",
       "      <th>5161</th>\n",
       "      <td>96372</td>\n",
       "      <td>Injection into tissue or muscle for therapy, d...</td>\n",
       "    </tr>\n",
       "    <tr>\n",
       "      <th>5193</th>\n",
       "      <td>97001</td>\n",
       "      <td>Physical therapy evaluation</td>\n",
       "    </tr>\n",
       "    <tr>\n",
       "      <th>5210</th>\n",
       "      <td>97110</td>\n",
       "      <td>Therapeutic exercise to develop strength, endu...</td>\n",
       "    </tr>\n",
       "    <tr>\n",
       "      <th>5216</th>\n",
       "      <td>97140</td>\n",
       "      <td>Manual (physical) therapy techniques to 1 or m...</td>\n",
       "    </tr>\n",
       "    <tr>\n",
       "      <th>5255</th>\n",
       "      <td>99202</td>\n",
       "      <td>New patient office or other outpatient visit, ...</td>\n",
       "    </tr>\n",
       "    <tr>\n",
       "      <th>5256</th>\n",
       "      <td>99203</td>\n",
       "      <td>New patient office or other outpatient visit, ...</td>\n",
       "    </tr>\n",
       "    <tr>\n",
       "      <th>5257</th>\n",
       "      <td>99204</td>\n",
       "      <td>New patient office or other outpatient visit, ...</td>\n",
       "    </tr>\n",
       "    <tr>\n",
       "      <th>5258</th>\n",
       "      <td>99205</td>\n",
       "      <td>New patient office or other outpatient visit, ...</td>\n",
       "    </tr>\n",
       "    <tr>\n",
       "      <th>5259</th>\n",
       "      <td>99211</td>\n",
       "      <td>Established patient office or other outpatient...</td>\n",
       "    </tr>\n",
       "    <tr>\n",
       "      <th>5260</th>\n",
       "      <td>99212</td>\n",
       "      <td>Established patient office or other outpatient...</td>\n",
       "    </tr>\n",
       "    <tr>\n",
       "      <th>5261</th>\n",
       "      <td>99213</td>\n",
       "      <td>Established patient office or other outpatient...</td>\n",
       "    </tr>\n",
       "    <tr>\n",
       "      <th>5262</th>\n",
       "      <td>99214</td>\n",
       "      <td>Established patient office or other outpatient...</td>\n",
       "    </tr>\n",
       "    <tr>\n",
       "      <th>5263</th>\n",
       "      <td>99215</td>\n",
       "      <td>Established patient office or other outpatient...</td>\n",
       "    </tr>\n",
       "    <tr>\n",
       "      <th>5264</th>\n",
       "      <td>99217</td>\n",
       "      <td>Hospital observation care discharge</td>\n",
       "    </tr>\n",
       "    <tr>\n",
       "      <th>5267</th>\n",
       "      <td>99220</td>\n",
       "      <td>Hospital observation care typically 70 minutes</td>\n",
       "    </tr>\n",
       "    <tr>\n",
       "      <th>5268</th>\n",
       "      <td>99221</td>\n",
       "      <td>Initial hospital inpatient care, typically 30 ...</td>\n",
       "    </tr>\n",
       "    <tr>\n",
       "      <th>5269</th>\n",
       "      <td>99222</td>\n",
       "      <td>Initial hospital inpatient care, typically 50 ...</td>\n",
       "    </tr>\n",
       "    <tr>\n",
       "      <th>5270</th>\n",
       "      <td>99223</td>\n",
       "      <td>Initial hospital inpatient care, typically 70 ...</td>\n",
       "    </tr>\n",
       "    <tr>\n",
       "      <th>5274</th>\n",
       "      <td>99231</td>\n",
       "      <td>Subsequent hospital inpatient care, typically ...</td>\n",
       "    </tr>\n",
       "    <tr>\n",
       "      <th>5275</th>\n",
       "      <td>99232</td>\n",
       "      <td>Subsequent hospital inpatient care, typically ...</td>\n",
       "    </tr>\n",
       "    <tr>\n",
       "      <th>5276</th>\n",
       "      <td>99233</td>\n",
       "      <td>Subsequent hospital inpatient care, typically ...</td>\n",
       "    </tr>\n",
       "    <tr>\n",
       "      <th>5280</th>\n",
       "      <td>99238</td>\n",
       "      <td>Hospital discharge day management, 30 minutes ...</td>\n",
       "    </tr>\n",
       "    <tr>\n",
       "      <th>5281</th>\n",
       "      <td>99239</td>\n",
       "      <td>Hospital discharge day management, more than 3...</td>\n",
       "    </tr>\n",
       "    <tr>\n",
       "      <th>5284</th>\n",
       "      <td>99283</td>\n",
       "      <td>Emergency department visit, moderately severe ...</td>\n",
       "    </tr>\n",
       "    <tr>\n",
       "      <th>5285</th>\n",
       "      <td>99284</td>\n",
       "      <td>Emergency department visit, problem of high se...</td>\n",
       "    </tr>\n",
       "    <tr>\n",
       "      <th>5286</th>\n",
       "      <td>99285</td>\n",
       "      <td>Emergency department visit, problem with signi...</td>\n",
       "    </tr>\n",
       "    <tr>\n",
       "      <th>5287</th>\n",
       "      <td>99291</td>\n",
       "      <td>Critical care delivery critically ill or injur...</td>\n",
       "    </tr>\n",
       "    <tr>\n",
       "      <th>5293</th>\n",
       "      <td>99308</td>\n",
       "      <td>Subsequent nursing facility visit, typically 1...</td>\n",
       "    </tr>\n",
       "    <tr>\n",
       "      <th>5294</th>\n",
       "      <td>99309</td>\n",
       "      <td>Subsequent nursing facility visit, typically 2...</td>\n",
       "    </tr>\n",
       "    <tr>\n",
       "      <th>5413</th>\n",
       "      <td>G0008</td>\n",
       "      <td>Administration of influenza virus vaccine</td>\n",
       "    </tr>\n",
       "    <tr>\n",
       "      <th>5414</th>\n",
       "      <td>G0009</td>\n",
       "      <td>Administration of pneumococcal vaccine</td>\n",
       "    </tr>\n",
       "    <tr>\n",
       "      <th>5417</th>\n",
       "      <td>G0101</td>\n",
       "      <td>Cervical or vaginal cancer screening; pelvic a...</td>\n",
       "    </tr>\n",
       "    <tr>\n",
       "      <th>5440</th>\n",
       "      <td>G0180</td>\n",
       "      <td>Physician certification for medicare-covered h...</td>\n",
       "    </tr>\n",
       "    <tr>\n",
       "      <th>5508</th>\n",
       "      <td>G0438</td>\n",
       "      <td>Annual wellness visit; includes a personalized...</td>\n",
       "    </tr>\n",
       "    <tr>\n",
       "      <th>5509</th>\n",
       "      <td>G0439</td>\n",
       "      <td>Annual wellness visit, includes a personalized...</td>\n",
       "    </tr>\n",
       "    <tr>\n",
       "      <th>5748</th>\n",
       "      <td>J3301</td>\n",
       "      <td>Injection, triamcinolone  acetonide, not other...</td>\n",
       "    </tr>\n",
       "    <tr>\n",
       "      <th>5918</th>\n",
       "      <td>Q2037</td>\n",
       "      <td>Influenza virus vaccine, split virus, when adm...</td>\n",
       "    </tr>\n",
       "    <tr>\n",
       "      <th>5919</th>\n",
       "      <td>Q2038</td>\n",
       "      <td>Influenza virus vaccine, split virus, when adm...</td>\n",
       "    </tr>\n",
       "  </tbody>\n",
       "</table>\n",
       "</div>"
      ],
      "text/plain": [
       "     HCPCS_CODE                                  HCPCS_DESCRIPTION\n",
       "6         00142                        Anesthesia for lens surgery\n",
       "62        00740  Anesthesia for procedure on gastrointestinal t...\n",
       "76        00810  Anesthesia for procedure on lower intestine us...\n",
       "436       17000                         Destruction of skin growth\n",
       "531       20610  Aspiration or injection of large joint or join...\n",
       "1601      36415  Insertion of needle into vein for collection o...\n",
       "2943      69210                          Removal of impact ear wax\n",
       "3010      70450                              CT scan head or brain\n",
       "3040      71010                      X-ray of chest, 1 view, front\n",
       "3042      71020            X-ray of chest, 2 views, front and side\n",
       "3074      72100      X-ray of lower and sacral spine, 2 or 3 views\n",
       "3096      72170                      X-ray of pelvis, 1 or 2 views\n",
       "3121      73030              X-ray of shoulder, minimum of 2 views\n",
       "3146      73510                       X-ray of hip 2 or more views\n",
       "3152      73560                        X-ray of knee, 1 or 2 views\n",
       "3153      73562                             X-ray of knee, 3 views\n",
       "3159      73610                 X-ray of ankle, minimum of 3 views\n",
       "3162      73630                  X-ray of foot, minimum of 3 views\n",
       "3176      74000                      X-ray of abdomen, single view\n",
       "3185      74176                      CT scan of abdomen and pelvis\n",
       "3186      74177                      CT scan of abdomen and pelvis\n",
       "3360      76942  Ultrasonic guidance imaging supervision and in...\n",
       "3393      77080  Bone density measurement spine or hips using d...\n",
       "3563      80053  Blood test, comprehensive group of blood chemi...\n",
       "3564      80061  Blood test, lipids (cholesterol and triglyceri...\n",
       "3613      81002                            Urinalysis, manual test\n",
       "3614      81003                          Automated urinalysis test\n",
       "3878      83036                               Hemoglobin A1C level\n",
       "4026      84443      Blood test, thyroid stimulating hormone (TSH)\n",
       "4070      85025  Complete blood cell count (red cells, white bl...\n",
       "4135      85610                          Blood test, clotting time\n",
       "4625      90656  Vaccine for influenza injection into muscle, p...\n",
       "4629      90662                    Vaccine for influenza injection\n",
       "4640      90732  Vaccine for pneumococcal polysaccharide for in...\n",
       "4831      93000  Routine EKG using at least 12 leads including ...\n",
       "4833      93010  Routine electrocardiogram (EKG) using at least...\n",
       "4877      93306  Ultrasound examination of heart including colo...\n",
       "4953      93880  Ultrasound scanning of head and neck vessel bl...\n",
       "4968      93970  Ultrasound scan of veins of arms or legs inclu...\n",
       "4969      93971  Ultrasound scan limited study of arm or leg ve...\n",
       "5161      96372  Injection into tissue or muscle for therapy, d...\n",
       "5193      97001                        Physical therapy evaluation\n",
       "5210      97110  Therapeutic exercise to develop strength, endu...\n",
       "5216      97140  Manual (physical) therapy techniques to 1 or m...\n",
       "5255      99202  New patient office or other outpatient visit, ...\n",
       "5256      99203  New patient office or other outpatient visit, ...\n",
       "5257      99204  New patient office or other outpatient visit, ...\n",
       "5258      99205  New patient office or other outpatient visit, ...\n",
       "5259      99211  Established patient office or other outpatient...\n",
       "5260      99212  Established patient office or other outpatient...\n",
       "5261      99213  Established patient office or other outpatient...\n",
       "5262      99214  Established patient office or other outpatient...\n",
       "5263      99215  Established patient office or other outpatient...\n",
       "5264      99217                Hospital observation care discharge\n",
       "5267      99220     Hospital observation care typically 70 minutes\n",
       "5268      99221  Initial hospital inpatient care, typically 30 ...\n",
       "5269      99222  Initial hospital inpatient care, typically 50 ...\n",
       "5270      99223  Initial hospital inpatient care, typically 70 ...\n",
       "5274      99231  Subsequent hospital inpatient care, typically ...\n",
       "5275      99232  Subsequent hospital inpatient care, typically ...\n",
       "5276      99233  Subsequent hospital inpatient care, typically ...\n",
       "5280      99238  Hospital discharge day management, 30 minutes ...\n",
       "5281      99239  Hospital discharge day management, more than 3...\n",
       "5284      99283  Emergency department visit, moderately severe ...\n",
       "5285      99284  Emergency department visit, problem of high se...\n",
       "5286      99285  Emergency department visit, problem with signi...\n",
       "5287      99291  Critical care delivery critically ill or injur...\n",
       "5293      99308  Subsequent nursing facility visit, typically 1...\n",
       "5294      99309  Subsequent nursing facility visit, typically 2...\n",
       "5413      G0008          Administration of influenza virus vaccine\n",
       "5414      G0009             Administration of pneumococcal vaccine\n",
       "5417      G0101  Cervical or vaginal cancer screening; pelvic a...\n",
       "5440      G0180  Physician certification for medicare-covered h...\n",
       "5508      G0438  Annual wellness visit; includes a personalized...\n",
       "5509      G0439  Annual wellness visit, includes a personalized...\n",
       "5748      J3301  Injection, triamcinolone  acetonide, not other...\n",
       "5918      Q2037  Influenza virus vaccine, split virus, when adm...\n",
       "5919      Q2038  Influenza virus vaccine, split virus, when adm..."
      ]
     },
     "execution_count": 20,
     "metadata": {},
     "output_type": "execute_result"
    }
   ],
   "source": [
    "pd.set_option('display.max_rows', None)\n",
    "Keep_Procedure=list(Miss[Miss.Non_Miss_Per>=0.025].HCPCS_CODE)\n",
    "HCPC[HCPC.HCPCS_CODE.isin(Keep_Procedure)].sort_index()"
   ]
  },
  {
   "cell_type": "code",
   "execution_count": 21,
   "metadata": {},
   "outputs": [
    {
     "name": "stdout",
     "output_type": "stream",
     "text": [
      "There are 78 procedures with non-missing percentage no smaller than 2.5% and displayed above\n"
     ]
    }
   ],
   "source": [
    "print('There are {} procedures with non-missing percentage no smaller than 2.5% and displayed above'.format(len(Keep_Procedure)))"
   ]
  },
  {
   "cell_type": "markdown",
   "metadata": {},
   "source": [
    "### D. Use clinical domain knowledge to generate final aggrigate features for modeling (HCPC table)"
   ]
  },
  {
   "cell_type": "markdown",
   "metadata": {},
   "source": [
    "The assumption we use here is: The higher the non-missing percentage is, the more commonly applied the procedures would be by providers. \n",
    "\n",
    "Since we don't have lots of clinical domain knowledge, we can use the 78 procedures we get in **Section C** to have an general understanding of what procedures the providers may have. From the table above, we can aggregate all to the following up procedure categories that may be useful for folow-up modeling step:\n",
    "\n",
    "\n",
    "| Feature       | Description                            | Generation                                                                                                                |\n",
    "|---------------|----------------------------------------|---------------------------------------------------------------------------------------------------------------------------|\n",
    "| Anes          | Anesthesia |     See additonal note                                                                                                                 |\n",
    "| skin          | Destruction of skin growth             | ['17000','17003','17004','17106','17107','17108','17110','17111']                                                         |\n",
    "| Asp           | Aspiration or injection                | ['20600','20605','20610','20612','20615']                                                                                 |\n",
    "| Insert_Vein   | Insertion of needle into vein          | ['36410','36415']                                                                                                         |\n",
    "| Ear           | Removal of ear-related parts           | ['69110','69120','69140','69145','69200','69205','69210']                                                                 |\n",
    "| CT_head       | CT scan head-related parts             | ['70450','70460','70470']                                                                                                 |\n",
    "| Xray_chest    | X-ray of chest                         | ['71010','71015','71020','71021','71022','71023','71030','71034','71035']                                                 |\n",
    "| Xray_spline   | X-ray of spline-related parts          | ['72010','72020','72040','72050','72052','72069','72070','72072','72074','72080','72090','72100','72110','72114','72120'] |\n",
    "| Xray_pelvis   | X-ray of pelvis parts                  | ['72170','72190']                                                                                                         |\n",
    "| Xray_shoulder | X-ray of shoulder                      | ['73010','73020','73030']                                                                                                 |\n",
    "| Xray_hip      | X-ray of hip parts                     | ['73500','73510','73520','73525','73530','73540']                                                                         |\n",
    "| Xray_knee     | X-ray of knee parts                    | ['73560','73562','73564','73565','73580']                                                                                 |\n",
    "| Xray_ankle    | X-ray of ankle parts                   | ['73600','73610','73615']                                                                                                 |\n",
    "| Xray_foot     | X-ray of foot parts                    | ['73620','73630']                                                                                                         |\n",
    "| Xray_abd      | X-ray of abdomen                       | ['74000','74010','74020','74022']                                                                                         |\n",
    "| CT_abd        | CT scan of abdomen                     | ['74150','74160','74170','74176','74177','74178']                                                                         |\n",
    "| Ultra_g       | Ultrasonic guidance                    |['76930','76932','76936','76937','76940','76942','76950','76965','76998']                                                                                           |\n",
    "| Inject_T      | Injection Tissue Related               | ['96372','96373','96374','96375','96379']                                                                                 |\n",
    "| Bone          | Bone Related                           | ['77078','77080','77081','77082','77084']                                                                                 |\n",
    "| BT            | Blood Test                             | ['80047','80048','80051','80053','80061']                                                                                 |\n",
    "| Urine         | Urine test                             | ['81000','81001','81002','81003','81005','81007','81015','81020','81025','81050','81099']                                 |\n",
    "| Hemo          | Hemoglobin Related                     | ['83020','83021','83026','83036','83037']                                                                                 |\n",
    "| BT_TSH        | Blood test TSH                         | ['84443']                                                                                                                 |\n",
    "| B_Count       | Blood Cell Count                       | ['85025','85027']                                                                                                         |\n",
    "| BT_Clot       | Blood Test clotting time               | ['85610','85611']                                                                                                         |\n",
    "| Vac_influ     | Vaccine for influenza virus            | ['90653','90654','90655','90656','90657','90660','90661','90662']                                                         |\n",
    "| Vac_pneu      | Vaccine for pneumococcal               | ['90732']                                                                                                                 |\n",
    "| EKG           | Routine EKG                            | ['93000','93005','93010']                                                                                                 |\n",
    "| Ultra_heart   | Ultrasound Exam of Heart-related parts | ['93303','93304','93306','93307','93308']                                                                                 |\n",
    "| Ultra_head    | Ultrasound Exam of head-related parts  | ['93880','93882','93886','93888']                                                                                         |\n",
    "| Ultra_arm     | Ultrasound Exam of arms or legs        | ['93965','93970','93971']                                                                                                 |\n",
    "| Inject_prev   | Injection for prevention               | ['96372','96373','96374','96375','96379']                                                                                 |\n",
    "| Phy_therapy   | Physical therapy evaluation            | ['97001','97002']                                                                                                         |\n",
    "| Ther_Ex       | Therapeutic exercise                   | ['97110','97112','97113','97116','97124','97139','97140','97150','97530']                                                            |\n",
    "| New_OP        | New Outpatient Visits                  | ['99201','99202','99203','99204','99205']                                                                                 |\n",
    "| Est_OP        | Established Outpatient visits          | ['99211','99212','99213','99214','99215']                                                                                 |\n",
    "| Hos_care      | Hospital obeservation care             | ['99217','99218','99219','99220']                                                                                         |\n",
    "| Ini_IP        | Initial Inpatient Care                 | ['99221','99222','99223']                                                                                                 |\n",
    "| Sub_IP        | Subsequent hospital inpatient care     | ['99231','99232','99233']                                                                                                 |\n",
    "| Hos_Dis       | Hospital Discharge manage              | ['99238','99239']                                                                                                         |\n",
    "| ED            | Emergency visits                       | ['99281','99282','99283','99284','99285']                                                                                 |\n",
    "| CD            | Critical care delivery                 | ['99291','99292']                                                                                                         |\n",
    "| Ini_Nurse     | Initial nursing visit                  | ['99304','99305','99306']                                                                                                 |\n",
    "| Sub_Nurse     | Subsequent nursing visit               | ['99307','99308','99309','99310']                                                                                         |\n",
    "| Admin_Vac     | Administration of vaccine              | ['G0008','G0009','G0010']                                                                                                 |\n",
    "| Cervial       | Cervial Cancer Screen                  | ['G0101']                                                                                                                 |\n",
    "| Home          | Home health                            | ['G0179','G0180','G0181','G0182']                                                                                         |\n",
    "| Wellness      | Annual wellness visit                  | ['G0438','G0439']                                                                                                         |\n",
    "| Triamc        | Injection of triamcinolone-related     | ['J3300','J3301','J3302','J3303']                                                                                         |\n",
    "| Influ_Vac     | Influenza virus vaccine                | ['Q2034','Q2035','Q2036','Q2037','Q2038','Q2039']                                                                         |\n",
    "\n",
    "Additonal Note:\n",
    "\n",
    "['00100','00103','00104','00120','00126','00140','00142','00144','00145','00147','00148','00160','00164','00170','0190','00210','00211','00216','00220','00222','00300','00320','00350','00352','00400','00402','00404','00406','00410','00500','00520','00522','00528','00529','00530','00532','00534','00537','00540','00541','00542','00550','00560','00562','00563','00566','00567','00580','00600','00604','00620','00630','00635','00640','00670','00700',\n",
    "'00702','00730','00740','00750','00752','00770','00790','00792','00794','00796','00797','00800','00810','00820',\n",
    "'00830','00832','00840','00844','00846','00860','00862','00864','00865','00868','00870','00872','00873','00880',\n",
    "'00882','00902','00904','00910','00912','00914','00916','00918','00920','00938','00940','00942','00944','00952',\n",
    "'01112','01120','01160,'01170','01200','01202','01210','01214','01215','01220','01230','01232,'01250','01260','01270','01272','01320','01380','01382','01392','01400','01402','01430','01462','01470','01474','01480','01482','01486',\n",
    "'01500','01520','01610','01620','01622','01630','01638','01670,'01710','01716'] "
   ]
  },
  {
   "cell_type": "markdown",
   "metadata": {},
   "source": [
    "**Generate raw aggregate feature dictionary**"
   ]
  },
  {
   "cell_type": "code",
   "execution_count": 89,
   "metadata": {},
   "outputs": [],
   "source": [
    "Raw_Agg_Feature_dic={\n",
    "'Anes':['00100','00103','00104','00120','00126','00140','00142','00144','00145','00147','00148','00160','00164','00170','00190','00210','00211','00216','00220','00222','00300','00320','00350','00352','00400','00402','00404','00406','00410','00500','00520','00522','00528','00529','00530','00532','00534','00537','00540','00541','00542','00550','00560','00562','00563','00566','00567','00580','00600','00604','00620','00630','00635','00640','00670','00700', '00702','00730','00740','00750','00752','00770','00790','00792','00794','00796','00797','00800','00810','00820', '00830','00832','00840','00844','00846','00860','00862','00864','00865','00868','00870','00872','00873','00880', '00882','00902','00904','00910','00912','00914','00916','00918','00920','00938','00940','00942','00944','00952','01112','01120','01160','01170','01200','01202','01210','01214','01215','01220','01230','01232','01250','01260','01270','01272','01320','01380','01382','01392','01400','01402','01430','01462','01470','01474','01480','01482','01486', '01500','01520','01610','01620','01622','01630','01638','01670','01710','01716'],\n",
    "'skin':['17000','17003','17004','17106','17107','17108','17110','17111'],\n",
    "'Asp':['20600','20605','20610','20612','20615'],\n",
    "'Insert_Vein':['36410','36415'],\n",
    "'Ear':['69110','69120','69140','69145','69200','69205','69210'],\n",
    "'CT_head':['70450','70460','70470'],\n",
    "'Xray_chest':['71010','71015','71020','71021','71022','71023','71030','71034','71035'],\n",
    "'Xray_spline':['72010','72020','72040','72050','72052','72069','72070','72072','72074','72080','72090','72100','72110','72114','72120'],\n",
    "'Xray_pelvis':['72170','72190'],\n",
    "'Xray_shoulder':['73010','73020','73030'],\n",
    "'Xray_hip':['73500','73510','73520','73525','73530','73540'],\n",
    "'Xray_knee':['73560','73562','73564','73565','73580'],\n",
    "'Xray_ankle':['73600','73610','73615'],\n",
    "'Xray_foot':['73620','73630'],\n",
    "'Xray_abd':['74000','74010','74020','74022'],\n",
    "'CT_abd':['74150','74160','74170','74176','74177','74178'],\n",
    "'Ultra_g':['76930','76932','76936','76937','76940','76942','76950','76965','76998'],\n",
    "'Inject_T':['96372','96373','96374','96375','96379'],\n",
    "'Bone':['77078','77080','77081','77082','77084'],\n",
    "'BT':['80047','80048','80051','80053','80061'],\n",
    "'Urine':['81000','81001','81002','81003','81005','81007','81015','81020','81025','81050','81099'],\n",
    "'Hemo':['83020','83021','83026','83036','83037'],\n",
    "'BT_TSH':['84443'],\n",
    "'B_Count':['85025','85027'],\n",
    "'BT_Clot':['85610','85611'],\n",
    "'Vac_influ':['90653','90654','90655','90656','90657','90660','90661','90662'],\n",
    "'Vac_pneu':['90732'],\n",
    "'EKG':['93000','93005','93010'],\n",
    "'Ultra_heart':['93303','93304','93306','93307','93308'],\n",
    "'Ultra_head':['93880','93882','93886','93888'],\n",
    "'Ultra_arm':['93965','93970','93971'],\n",
    "'Inject_prev':['96372','96373','96374','96375','96379'],\n",
    "'Phy_therapy':['97001','97002'],\n",
    "'Ther_Ex':['97110','97112','97113','97116','97124','97139','97140','97150','97530'],\n",
    "'New_OP':['99201','99202','99203','99204','99205'],\n",
    "'Est_OP':['99211','99212','99213','99214','99215'],\n",
    "'Hos_care':['99217','99218','99219','99220'],\n",
    "'Ini_IP':['99221','99222','99223'],\n",
    "'Sub_IP':['99231','99232','99233'],\n",
    "'Hos_Dis':['99238','99239'],\n",
    "'ED':['99281','99282','99283','99284','99285'],\n",
    "'CD':['99291','99292'],\n",
    "'Ini_Nurse':['99304','99305','99306'],\n",
    "'Sub_Nurse':['99307','99308','99309','99310'],\n",
    "'Admin_Vac':['G0008','G0009','G0010'],\n",
    "'Cervial':['G0101'],\n",
    "'Home':['G0179','G0180','G0181','G0182'],\n",
    "'Wellness':['G0438','G0439'],\n",
    "'Triamc':['J3300','J3301','J3302','J3303'],\n",
    "'Influ_Vac':['Q2034','Q2035','Q2036','Q2037','Q2038','Q2039']\n",
    "}"
   ]
  },
  {
   "cell_type": "markdown",
   "metadata": {},
   "source": [
    "**Generete modified features from raw features**"
   ]
  },
  {
   "cell_type": "markdown",
   "metadata": {},
   "source": [
    "Except for the raw aggregate features, we can generate new features like Xray_all,Vac_influ_all,OP_all,IP_all,Nurse_all and Ther_Ex_all. Below are the definitions\n",
    "\n",
    "* **Xray_all**: Xray_chest+Xray_spline+Xray_pelvis+Xray_shoulder+Xray_hip+Xray_knee+Xray_ankle+Xray_foot+Xray_abd\n",
    "* **Vac_influ_all**: Influ_Vac+Vac_influ\n",
    "* **OP_all**: New_OP+Est_OP\n",
    "* **IP_all**: Ini_IP+Sub_IP\n",
    "* **Nurse_all**: Ini_Nurse+Sub_Nurse\n",
    "* **Ther_Ex_all**: Phy_therapy+Ther_Ex"
   ]
  },
  {
   "cell_type": "code",
   "execution_count": 90,
   "metadata": {},
   "outputs": [],
   "source": [
    "Raw_Agg_Feature_dic['Xray_all']=Raw_Agg_Feature_dic['Xray_chest']+Raw_Agg_Feature_dic['Xray_pelvis']+Raw_Agg_Feature_dic['Xray_spline']+Raw_Agg_Feature_dic['Xray_shoulder']+Raw_Agg_Feature_dic['Xray_hip']+Raw_Agg_Feature_dic['Xray_knee']+Raw_Agg_Feature_dic['Xray_ankle']+Raw_Agg_Feature_dic['Xray_foot']+Raw_Agg_Feature_dic['Xray_abd']\n",
    "Raw_Agg_Feature_dic['Vac_influ_all']=Raw_Agg_Feature_dic['Influ_Vac']+Raw_Agg_Feature_dic['Vac_influ']\n",
    "Raw_Agg_Feature_dic['OP_all']=Raw_Agg_Feature_dic['New_OP']+Raw_Agg_Feature_dic['Est_OP']\n",
    "Raw_Agg_Feature_dic['IP_all']=Raw_Agg_Feature_dic['Ini_IP']+Raw_Agg_Feature_dic['Sub_IP']\n",
    "Raw_Agg_Feature_dic['Nurse_all']=Raw_Agg_Feature_dic['Ini_Nurse']+Raw_Agg_Feature_dic['Sub_Nurse']\n",
    "Raw_Agg_Feature_dic['Ther_Ex_all']=Raw_Agg_Feature_dic['Phy_therapy']+Raw_Agg_Feature_dic['Ther_Ex']"
   ]
  },
  {
   "cell_type": "markdown",
   "metadata": {},
   "source": [
    "**Generate aggregate features**"
   ]
  },
  {
   "cell_type": "code",
   "execution_count": 92,
   "metadata": {
    "scrolled": true
   },
   "outputs": [
    {
     "name": "stdout",
     "output_type": "stream",
     "text": [
      "CPU times: user 34.8 s, sys: 9.74 s, total: 44.5 s\n",
      "Wall time: 44.6 s\n"
     ]
    }
   ],
   "source": [
    "%%time\n",
    "NPI_Model=pd.DataFrame()\n",
    "NPI_Model['NPI']=claim_wide_Avg.index\n",
    "for L in list(Raw_Agg_Feature_dic.keys()):\n",
    "    T=claim_long.loc[claim_long.HCPCS_CODE.isin(Raw_Agg_Feature_dic[L]),:].groupby(['NPI']).ply_select(AVG_SRVC=X.SRVC_Count.sum()/X.MEMBER_Count.sum()).reset_index()    \n",
    "    T.rename(columns={'AVG_SRVC': L},inplace=True)\n",
    "    NPI_Model=NPI_Model.merge(T,how='left')\n",
    "    #print(L)"
   ]
  },
  {
   "cell_type": "markdown",
   "metadata": {},
   "source": [
    "**Fill in the missing value with 0**"
   ]
  },
  {
   "cell_type": "code",
   "execution_count": 94,
   "metadata": {},
   "outputs": [
    {
     "data": {
      "text/html": [
       "<div>\n",
       "<style scoped>\n",
       "    .dataframe tbody tr th:only-of-type {\n",
       "        vertical-align: middle;\n",
       "    }\n",
       "\n",
       "    .dataframe tbody tr th {\n",
       "        vertical-align: top;\n",
       "    }\n",
       "\n",
       "    .dataframe thead th {\n",
       "        text-align: right;\n",
       "    }\n",
       "</style>\n",
       "<table border=\"1\" class=\"dataframe\">\n",
       "  <thead>\n",
       "    <tr style=\"text-align: right;\">\n",
       "      <th></th>\n",
       "      <th>NPI</th>\n",
       "      <th>Anes</th>\n",
       "      <th>skin</th>\n",
       "      <th>Asp</th>\n",
       "      <th>Insert_Vein</th>\n",
       "      <th>Ear</th>\n",
       "      <th>CT_head</th>\n",
       "      <th>Xray_chest</th>\n",
       "      <th>Xray_spline</th>\n",
       "      <th>Xray_pelvis</th>\n",
       "      <th>...</th>\n",
       "      <th>Home</th>\n",
       "      <th>Wellness</th>\n",
       "      <th>Triamc</th>\n",
       "      <th>Influ_Vac</th>\n",
       "      <th>Xray_all</th>\n",
       "      <th>Vac_influ_all</th>\n",
       "      <th>OP_all</th>\n",
       "      <th>IP_all</th>\n",
       "      <th>Nurse_all</th>\n",
       "      <th>Ther_Ex_all</th>\n",
       "    </tr>\n",
       "  </thead>\n",
       "  <tbody>\n",
       "    <tr>\n",
       "      <th>0</th>\n",
       "      <td>1003000126</td>\n",
       "      <td>0.0</td>\n",
       "      <td>0.0</td>\n",
       "      <td>0.0</td>\n",
       "      <td>0.0</td>\n",
       "      <td>0.0</td>\n",
       "      <td>0.0</td>\n",
       "      <td>0.0</td>\n",
       "      <td>0.0</td>\n",
       "      <td>0.0</td>\n",
       "      <td>...</td>\n",
       "      <td>0.0</td>\n",
       "      <td>0.0</td>\n",
       "      <td>0.0</td>\n",
       "      <td>0.0</td>\n",
       "      <td>0.0</td>\n",
       "      <td>0.0</td>\n",
       "      <td>0.000000</td>\n",
       "      <td>1.624511</td>\n",
       "      <td>0.0</td>\n",
       "      <td>0.0</td>\n",
       "    </tr>\n",
       "    <tr>\n",
       "      <th>1</th>\n",
       "      <td>1003000134</td>\n",
       "      <td>0.0</td>\n",
       "      <td>0.0</td>\n",
       "      <td>0.0</td>\n",
       "      <td>0.0</td>\n",
       "      <td>0.0</td>\n",
       "      <td>0.0</td>\n",
       "      <td>0.0</td>\n",
       "      <td>0.0</td>\n",
       "      <td>0.0</td>\n",
       "      <td>...</td>\n",
       "      <td>0.0</td>\n",
       "      <td>0.0</td>\n",
       "      <td>0.0</td>\n",
       "      <td>0.0</td>\n",
       "      <td>0.0</td>\n",
       "      <td>0.0</td>\n",
       "      <td>0.000000</td>\n",
       "      <td>0.000000</td>\n",
       "      <td>0.0</td>\n",
       "      <td>0.0</td>\n",
       "    </tr>\n",
       "    <tr>\n",
       "      <th>2</th>\n",
       "      <td>1003000142</td>\n",
       "      <td>0.0</td>\n",
       "      <td>0.0</td>\n",
       "      <td>0.0</td>\n",
       "      <td>0.0</td>\n",
       "      <td>0.0</td>\n",
       "      <td>0.0</td>\n",
       "      <td>0.0</td>\n",
       "      <td>0.0</td>\n",
       "      <td>0.0</td>\n",
       "      <td>...</td>\n",
       "      <td>0.0</td>\n",
       "      <td>0.0</td>\n",
       "      <td>0.0</td>\n",
       "      <td>0.0</td>\n",
       "      <td>0.0</td>\n",
       "      <td>0.0</td>\n",
       "      <td>1.731884</td>\n",
       "      <td>0.000000</td>\n",
       "      <td>0.0</td>\n",
       "      <td>0.0</td>\n",
       "    </tr>\n",
       "  </tbody>\n",
       "</table>\n",
       "<p>3 rows × 57 columns</p>\n",
       "</div>"
      ],
      "text/plain": [
       "          NPI  Anes  skin  Asp  Insert_Vein  Ear  CT_head  Xray_chest  \\\n",
       "0  1003000126   0.0   0.0  0.0          0.0  0.0      0.0         0.0   \n",
       "1  1003000134   0.0   0.0  0.0          0.0  0.0      0.0         0.0   \n",
       "2  1003000142   0.0   0.0  0.0          0.0  0.0      0.0         0.0   \n",
       "\n",
       "   Xray_spline  Xray_pelvis  ...  Home  Wellness  Triamc  Influ_Vac  Xray_all  \\\n",
       "0          0.0          0.0  ...   0.0       0.0     0.0        0.0       0.0   \n",
       "1          0.0          0.0  ...   0.0       0.0     0.0        0.0       0.0   \n",
       "2          0.0          0.0  ...   0.0       0.0     0.0        0.0       0.0   \n",
       "\n",
       "   Vac_influ_all    OP_all    IP_all  Nurse_all  Ther_Ex_all  \n",
       "0            0.0  0.000000  1.624511        0.0          0.0  \n",
       "1            0.0  0.000000  0.000000        0.0          0.0  \n",
       "2            0.0  1.731884  0.000000        0.0          0.0  \n",
       "\n",
       "[3 rows x 57 columns]"
      ]
     },
     "execution_count": 94,
     "metadata": {},
     "output_type": "execute_result"
    }
   ],
   "source": [
    "NPI_Model.fillna(0,inplace=True)\n",
    "NPI_Model.head(3)"
   ]
  },
  {
   "cell_type": "markdown",
   "metadata": {},
   "source": [
    "## Preprocess the pharmacy claim (Get the procedure group features and corresponding average drug numbers)"
   ]
  },
  {
   "cell_type": "markdown",
   "metadata": {},
   "source": [
    "There are too many procedures in procedure claim table and we narrow down to the most common procedures cardiologists will have. Below are the following steps(In practice, B and C can reverse order sometimes):\n",
    "\n",
    "**A. Narrow down to drugs cardiologists would have.**\n",
    "\n",
    "**B.Generate wide-format table with colums contain all drugs and corresponding average drug numbers.**\n",
    "\n",
    "**C.Choose a cut-off and only choose the most common drugs.**\n",
    "\n",
    "**D.Use clinical domain knowledge to generate aggrigate fianl features for modeling (HCPC table).**\n",
    "\n",
    "For D, it is hard for us to do since we don't have domain knowledge but we can later collarborate with clinical team. "
   ]
  },
  {
   "cell_type": "code",
   "execution_count": 107,
   "metadata": {},
   "outputs": [
    {
     "data": {
      "text/html": [
       "<div>\n",
       "<style scoped>\n",
       "    .dataframe tbody tr th:only-of-type {\n",
       "        vertical-align: middle;\n",
       "    }\n",
       "\n",
       "    .dataframe tbody tr th {\n",
       "        vertical-align: top;\n",
       "    }\n",
       "\n",
       "    .dataframe thead th {\n",
       "        text-align: right;\n",
       "    }\n",
       "</style>\n",
       "<table border=\"1\" class=\"dataframe\">\n",
       "  <thead>\n",
       "    <tr style=\"text-align: right;\">\n",
       "      <th></th>\n",
       "      <th>NPI</th>\n",
       "      <th>DRUG_NAME</th>\n",
       "      <th>GENERIC_NAME</th>\n",
       "      <th>TOTAL_CLAIM_COUNT</th>\n",
       "    </tr>\n",
       "  </thead>\n",
       "  <tbody>\n",
       "    <tr>\n",
       "      <th>0</th>\n",
       "      <td>1821285826</td>\n",
       "      <td>TAMSULOSIN HCL</td>\n",
       "      <td>TAMSULOSIN HCL</td>\n",
       "      <td>12</td>\n",
       "    </tr>\n",
       "    <tr>\n",
       "      <th>1</th>\n",
       "      <td>1093969024</td>\n",
       "      <td>PANTOPRAZOLE SODIUM</td>\n",
       "      <td>PANTOPRAZOLE SODIUM</td>\n",
       "      <td>12</td>\n",
       "    </tr>\n",
       "    <tr>\n",
       "      <th>2</th>\n",
       "      <td>1518048750</td>\n",
       "      <td>VENLAFAXINE HCL ER</td>\n",
       "      <td>VENLAFAXINE HCL</td>\n",
       "      <td>12</td>\n",
       "    </tr>\n",
       "  </tbody>\n",
       "</table>\n",
       "</div>"
      ],
      "text/plain": [
       "          NPI            DRUG_NAME         GENERIC_NAME  TOTAL_CLAIM_COUNT\n",
       "0  1821285826       TAMSULOSIN HCL       TAMSULOSIN HCL                 12\n",
       "1  1093969024  PANTOPRAZOLE SODIUM  PANTOPRAZOLE SODIUM                 12\n",
       "2  1518048750   VENLAFAXINE HCL ER      VENLAFAXINE HCL                 12"
      ]
     },
     "execution_count": 107,
     "metadata": {},
     "output_type": "execute_result"
    }
   ],
   "source": [
    "rx_claim.head(3)"
   ]
  },
  {
   "cell_type": "code",
   "execution_count": null,
   "metadata": {},
   "outputs": [],
   "source": [
    "claim_long"
   ]
  }
 ],
 "metadata": {
  "kernelspec": {
   "display_name": "Python 3",
   "language": "python",
   "name": "python3"
  },
  "language_info": {
   "codemirror_mode": {
    "name": "ipython",
    "version": 3
   },
   "file_extension": ".py",
   "mimetype": "text/x-python",
   "name": "python",
   "nbconvert_exporter": "python",
   "pygments_lexer": "ipython3",
   "version": "3.6.8"
  }
 },
 "nbformat": 4,
 "nbformat_minor": 2
}
